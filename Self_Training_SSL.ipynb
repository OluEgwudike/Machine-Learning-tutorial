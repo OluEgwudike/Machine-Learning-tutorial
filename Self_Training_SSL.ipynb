{
 "cells": [
  {
   "cell_type": "markdown",
   "id": "643b0f80",
   "metadata": {},
   "source": [
    "# Self-Training for Semi-Supervised Learning\n",
    "This notebook demonstrates the implementation of the self-training approach in semi-supervised learning using Python libraries."
   ]
  },
  {
   "cell_type": "code",
   "execution_count": 1,
   "id": "38ff3ba9",
   "metadata": {},
   "outputs": [],
   "source": [
    "# Importing Required Libraries\n",
    "import numpy as np\n",
    "import pandas as pd\n",
    "from sklearn.model_selection import train_test_split\n",
    "from sklearn.feature_extraction.text import CountVectorizer\n",
    "from sklearn.linear_model import LogisticRegression\n",
    "from sklearn.metrics import accuracy_score\n",
    "from sklearn.pipeline import make_pipeline\n",
    "from sklearn.preprocessing import LabelEncoder\n",
    "import random\n",
    "import matplotlib.pyplot as plt\n",
    "\n",
    "# Setting up for reproducibility\n",
    "random.seed(42)\n",
    "np.random.seed(42)"
   ]
  },
  {
   "cell_type": "markdown",
   "id": "57b25439",
   "metadata": {},
   "source": [
    "## Step 1: Load Dataset\n",
    "Here, we use the IMDB dataset available in NLTK for demonstration purposes."
   ]
  },
  {
   "cell_type": "code",
   "execution_count": 2,
   "id": "9b11dc68",
   "metadata": {},
   "outputs": [
    {
     "ename": "ModuleNotFoundError",
     "evalue": "No module named 'nltk'",
     "output_type": "error",
     "traceback": [
      "\u001b[0;31m---------------------------------------------------------------------------\u001b[0m",
      "\u001b[0;31mModuleNotFoundError\u001b[0m                       Traceback (most recent call last)",
      "Cell \u001b[0;32mIn[2], line 2\u001b[0m\n\u001b[1;32m      1\u001b[0m \u001b[38;5;66;03m# Loading the IMDB dataset from NLTK\u001b[39;00m\n\u001b[0;32m----> 2\u001b[0m \u001b[38;5;28;01mfrom\u001b[39;00m \u001b[38;5;21;01mnltk\u001b[39;00m\u001b[38;5;21;01m.\u001b[39;00m\u001b[38;5;21;01mcorpus\u001b[39;00m \u001b[38;5;28;01mimport\u001b[39;00m movie_reviews\n\u001b[1;32m      3\u001b[0m \u001b[38;5;28;01mimport\u001b[39;00m \u001b[38;5;21;01mnltk\u001b[39;00m\n\u001b[1;32m      4\u001b[0m nltk\u001b[38;5;241m.\u001b[39mdownload(\u001b[38;5;124m'\u001b[39m\u001b[38;5;124mmovie_reviews\u001b[39m\u001b[38;5;124m'\u001b[39m)\n",
      "\u001b[0;31mModuleNotFoundError\u001b[0m: No module named 'nltk'"
     ]
    }
   ],
   "source": [
    "# Loading the IMDB dataset from NLTK\n",
    "from nltk.corpus import movie_reviews\n",
    "import nltk\n",
    "nltk.download('movie_reviews')\n",
    "\n",
    "# Preparing the dataset\n",
    "documents = [(list(movie_reviews.words(fileid)), category)\n",
    "             for category in movie_reviews.categories()\n",
    "             for fileid in movie_reviews.fileids(category)]\n",
    "\n",
    "random.shuffle(documents)\n",
    "\n",
    "# Splitting into reviews and labels\n",
    "reviews = [\" \".join(words) for words, label in documents]\n",
    "labels = [label for words, label in documents]\n",
    "\n",
    "# Encoding labels: positive -> 1, negative -> 0\n",
    "le = LabelEncoder()\n",
    "labels_encoded = le.fit_transform(labels)\n",
    "\n",
    "# Splitting the data: 5% labeled, 95% unlabeled\n",
    "X_train, X_unlabeled, y_train, y_unlabeled = train_test_split(\n",
    "    reviews, labels_encoded, test_size=0.95, random_state=42\n",
    ")\n",
    "\n",
    "# Splitting further for validation and testing\n",
    "X_val, X_test, y_val, y_test = train_test_split(\n",
    "    X_unlabeled, y_unlabeled, test_size=0.5, random_state=42\n",
    ")"
   ]
  },
  {
   "cell_type": "markdown",
   "id": "181b85dc",
   "metadata": {},
   "source": [
    "## Step 2: Train Initial Model\n",
    "We create a logistic regression model and evaluate its performance on the validation set."
   ]
  },
  {
   "cell_type": "code",
   "execution_count": null,
   "id": "1cc35e7e",
   "metadata": {},
   "outputs": [],
   "source": [
    "# Creating a vectorizer and logistic regression model\n",
    "vectorizer = CountVectorizer(stop_words='english', max_features=5000)\n",
    "classifier = LogisticRegression(solver='liblinear', random_state=42)\n",
    "\n",
    "# Creating a pipeline for convenience\n",
    "model = make_pipeline(vectorizer, classifier)\n",
    "\n",
    "# Training the model on labeled data\n",
    "model.fit(X_train, y_train)\n",
    "\n",
    "# Evaluating the model on the validation set\n",
    "y_val_pred = model.predict(X_val)\n",
    "initial_accuracy = accuracy_score(y_val, y_val_pred)\n",
    "print(f\"Initial Validation Accuracy: {initial_accuracy:.2f}\")"
   ]
  },
  {
   "cell_type": "markdown",
   "id": "05706523",
   "metadata": {},
   "source": [
    "## Step 3: Implement Self-Training Loop\n",
    "This loop iteratively uses pseudo-labels to retrain the model with high-confidence unlabeled samples."
   ]
  },
  {
   "cell_type": "code",
   "execution_count": null,
   "id": "47aef1dd",
   "metadata": {},
   "outputs": [],
   "source": [
    "# Self-Training Parameters\n",
    "confidence_threshold = 0.8\n",
    "iterations = 5\n",
    "validation_accuracies = []\n",
    "\n",
    "# Self-Training Loop\n",
    "for i in range(iterations):\n",
    "    print(f\"\\nIteration {i+1}:\")\n",
    "\n",
    "    # Predict pseudo-labels for unlabeled data\n",
    "    probabilities = model.predict_proba(X_unlabeled)\n",
    "    pseudo_labels = np.argmax(probabilities, axis=1)\n",
    "    confidence_scores = np.max(probabilities, axis=1)\n",
    "\n",
    "    # Select high-confidence samples\n",
    "    high_confidence_idx = np.where(confidence_scores > confidence_threshold)[0]\n",
    "    X_pseudo = [X_unlabeled[idx] for idx in high_confidence_idx]\n",
    "    y_pseudo = pseudo_labels[high_confidence_idx]\n",
    "\n",
    "    # Combine pseudo-labeled data with labeled data\n",
    "    X_combined = np.concatenate([X_train, X_pseudo])\n",
    "    y_combined = np.concatenate([y_train, y_pseudo])\n",
    "\n",
    "    # Retrain the model on the combined dataset\n",
    "    model.fit(X_combined, y_combined)\n",
    "\n",
    "    # Evaluate the model on the validation set\n",
    "    y_val_pred = model.predict(X_val)\n",
    "    val_accuracy = accuracy_score(y_val, y_val_pred)\n",
    "    validation_accuracies.append(val_accuracy)\n",
    "    print(f\"Validation Accuracy after iteration {i+1}: {val_accuracy:.2f}\")\n",
    "\n",
    "    # Remove high-confidence samples from the unlabeled data\n",
    "    X_unlabeled = np.delete(X_unlabeled, high_confidence_idx, axis=0)"
   ]
  },
  {
   "cell_type": "markdown",
   "id": "58919a25",
   "metadata": {},
   "source": [
    "## Step 4: Plot Validation Accuracy Across Iterations\n",
    "This visualization shows how the model improves over successive iterations."
   ]
  },
  {
   "cell_type": "code",
   "execution_count": null,
   "id": "61259e93",
   "metadata": {},
   "outputs": [],
   "source": [
    "# Plotting the validation accuracies\n",
    "plt.figure(figsize=(10, 6))\n",
    "plt.plot(range(1, iterations + 1), validation_accuracies, marker='o', linestyle='--', color='b')\n",
    "plt.title(\"Validation Accuracy Across Iterations\")\n",
    "plt.xlabel(\"Iteration\")\n",
    "plt.ylabel(\"Validation Accuracy\")\n",
    "plt.xticks(range(1, iterations + 1))\n",
    "plt.grid()\n",
    "plt.show()"
   ]
  },
  {
   "cell_type": "markdown",
   "id": "ed3514eb",
   "metadata": {},
   "source": [
    "## Step 5: Evaluate Final Model on Test Data\n",
    "Finally, we evaluate the model's performance on the held-out test set."
   ]
  },
  {
   "cell_type": "code",
   "execution_count": null,
   "id": "d70d1774",
   "metadata": {},
   "outputs": [],
   "source": [
    "# Evaluate the final model on the test set\n",
    "y_test_pred = model.predict(X_test)\n",
    "final_accuracy = accuracy_score(y_test, y_test_pred)\n",
    "print(f\"\\nFinal Test Accuracy: {final_accuracy:.2f}\")"
   ]
  }
 ],
 "metadata": {
  "kernelspec": {
   "display_name": "Python 3 (ipykernel)",
   "language": "python",
   "name": "python3"
  },
  "language_info": {
   "codemirror_mode": {
    "name": "ipython",
    "version": 3
   },
   "file_extension": ".py",
   "mimetype": "text/x-python",
   "name": "python",
   "nbconvert_exporter": "python",
   "pygments_lexer": "ipython3",
   "version": "3.11.4"
  }
 },
 "nbformat": 4,
 "nbformat_minor": 5
}
